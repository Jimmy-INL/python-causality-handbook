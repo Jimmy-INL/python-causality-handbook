{
 "cells": [
  {
   "cell_type": "markdown",
   "metadata": {},
   "source": [
    "# Evaluating Causal Models\n",
    "\n",
    "In the previous chapter, we saw how to build a model that can segment our entities into how responsive they are to a treatment. In techincal terms, we've build a model such that it partitons the entities not on \\\\(Y\\\\), like a prediction model would do, but in the treatment elasticity \\\\(\\frac{\\delta y}{ \\delta t}\\\\).\n",
    "\n",
    "The problem that arises next is how can we evaluate this model? In other words, how can we check if this model is any good? Unlike with a predictive model, where we can observe the true value of \\\\(y\\\\), elasticity is not something we can see on an idividual level. It is as if every entity had an underlying responsiveness, denoted by the slope of the line from treatment to outcome, but that we can't measure.\n",
    "\n",
    "![img](./data/img/causal-model/elasticity.png)\n",
    "\n",
    "This is a very very very hard thing to wrap our heads around and it took me about 2 years to get into something that is not a defenitive answer, but it works. The trick is to use aggregate measurements of elasticity. Even if you can't estimate elasticity individually, you can do it for a group and that is what we will explore."
   ]
  },
  {
   "cell_type": "code",
   "execution_count": 1,
   "metadata": {},
   "outputs": [],
   "source": [
    "import pandas as pd\n",
    "import numpy as np\n",
    "from matplotlib import pyplot as plt\n",
    "import seaborn as sns\n",
    "\n",
    "import statsmodels.formula.api as smf\n",
    "import statsmodels.api as sm\n",
    "\n",
    "from sklearn.ensemble import GradientBoostingRegressor"
   ]
  },
  {
   "cell_type": "markdown",
   "metadata": {},
   "source": [
    "Consider again our data from icecream sales. Now, we have two sources. The first consists of non random data. In this source, price has been set naturaly, perhaps by the intuition of the icecream seller. On the second source, `prices_rnd`, prices where randomly set, perhaps in some sort of experiment to understand how price afects sales.\n",
    "\n",
    "We will use the non random data to estimate our causal models and the random data to validate it. As we will, see, random data is very valuable for this purpose, however, in real life, it is often expensive to collect random data (why would you set prices at random if you know some of them are not very good ones and will only make you loose money???). So, what tends to happen is that we often have an abundance of data where the treatment is **NOT** random and very few, if any, random data.\n",
    "\n",
    "And just in case you forgot, here is what the data looks like."
   ]
  },
  {
   "cell_type": "code",
   "execution_count": 2,
   "metadata": {},
   "outputs": [
    {
     "name": "stdout",
     "output_type": "stream",
     "text": [
      "(5000, 5)\n"
     ]
    },
    {
     "data": {
      "text/html": [
       "<div>\n",
       "<style scoped>\n",
       "    .dataframe tbody tr th:only-of-type {\n",
       "        vertical-align: middle;\n",
       "    }\n",
       "\n",
       "    .dataframe tbody tr th {\n",
       "        vertical-align: top;\n",
       "    }\n",
       "\n",
       "    .dataframe thead th {\n",
       "        text-align: right;\n",
       "    }\n",
       "</style>\n",
       "<table border=\"1\" class=\"dataframe\">\n",
       "  <thead>\n",
       "    <tr style=\"text-align: right;\">\n",
       "      <th></th>\n",
       "      <th>temp</th>\n",
       "      <th>weekday</th>\n",
       "      <th>cost</th>\n",
       "      <th>price</th>\n",
       "      <th>sales</th>\n",
       "    </tr>\n",
       "  </thead>\n",
       "  <tbody>\n",
       "    <tr>\n",
       "      <th>0</th>\n",
       "      <td>17.3</td>\n",
       "      <td>6</td>\n",
       "      <td>1.5</td>\n",
       "      <td>5.6</td>\n",
       "      <td>173</td>\n",
       "    </tr>\n",
       "    <tr>\n",
       "      <th>1</th>\n",
       "      <td>25.4</td>\n",
       "      <td>3</td>\n",
       "      <td>0.3</td>\n",
       "      <td>4.9</td>\n",
       "      <td>196</td>\n",
       "    </tr>\n",
       "    <tr>\n",
       "      <th>2</th>\n",
       "      <td>23.3</td>\n",
       "      <td>5</td>\n",
       "      <td>1.5</td>\n",
       "      <td>7.6</td>\n",
       "      <td>207</td>\n",
       "    </tr>\n",
       "    <tr>\n",
       "      <th>3</th>\n",
       "      <td>26.9</td>\n",
       "      <td>1</td>\n",
       "      <td>0.3</td>\n",
       "      <td>5.3</td>\n",
       "      <td>241</td>\n",
       "    </tr>\n",
       "    <tr>\n",
       "      <th>4</th>\n",
       "      <td>20.2</td>\n",
       "      <td>1</td>\n",
       "      <td>1.0</td>\n",
       "      <td>7.2</td>\n",
       "      <td>227</td>\n",
       "    </tr>\n",
       "  </tbody>\n",
       "</table>\n",
       "</div>"
      ],
      "text/plain": [
       "   temp  weekday  cost  price  sales\n",
       "0  17.3        6   1.5    5.6    173\n",
       "1  25.4        3   0.3    4.9    196\n",
       "2  23.3        5   1.5    7.6    207\n",
       "3  26.9        1   0.3    5.3    241\n",
       "4  20.2        1   1.0    7.2    227"
      ]
     },
     "execution_count": 2,
     "metadata": {},
     "output_type": "execute_result"
    }
   ],
   "source": [
    "prices = pd.read_csv(\"./data/ice_cream_sales.csv\")\n",
    "prices_rnd = pd.read_csv(\"./data/ice_cream_sales_rnd.csv\")\n",
    "print(prices_rnd.shape)\n",
    "prices.head()"
   ]
  },
  {
   "cell_type": "markdown",
   "metadata": {},
   "source": [
    "Now, lets train two models. The first one will be a linear regression with interactions terms so that elasticity is allowed to vary between units. \n",
    "\n",
    "$$\n",
    "sales_i = \\beta_0 + \\beta_1 price_i + \\pmb{\\beta_2 X}_i + e_i\n",
    "$$\n"
   ]
  },
  {
   "cell_type": "code",
   "execution_count": 3,
   "metadata": {},
   "outputs": [],
   "source": [
    "m1 = smf.ols(\"sales ~ price*cost + price*C(weekday) + price*temp\", data=prices).fit()"
   ]
  },
  {
   "cell_type": "markdown",
   "metadata": {},
   "source": [
    "The second model will be fully non parametric ML predictive model\n",
    "\n",
    "$$\n",
    "sales_i = G(X)_i + e_i\n",
    "$$\n"
   ]
  },
  {
   "cell_type": "code",
   "execution_count": 4,
   "metadata": {},
   "outputs": [],
   "source": [
    "X = [\"temp\", \"weekday\", \"cost\", \"price\"]\n",
    "y = \"sales\"\n",
    "\n",
    "np.random.seed(1)\n",
    "m2 = GradientBoostingRegressor()\n",
    "m2.fit(prices[X], prices[y]);"
   ]
  },
  {
   "cell_type": "markdown",
   "metadata": {},
   "source": [
    "And just to make sure the model is not heavly overfitted, we can show the \\\\(R^2\\\\) the data we've used to train it and on new, unseen data.(For those more versed in Machine Learning, notice that some drop in performance is expected, because there is a concept drift. The model was trained in data where price is not random, but the test set has only randomized prices). "
   ]
  },
  {
   "cell_type": "code",
   "execution_count": 5,
   "metadata": {},
   "outputs": [
    {
     "name": "stdout",
     "output_type": "stream",
     "text": [
      "Train Score: 0.9251704824568053\n",
      "Test Score: 0.7711074163447711\n"
     ]
    }
   ],
   "source": [
    "print(\"Train Score:\", m2.score(prices[X], prices[y]))\n",
    "print(\"Test Score:\", m2.score(prices_rnd[X], prices_rnd[y]))"
   ]
  },
  {
   "cell_type": "markdown",
   "metadata": {},
   "source": [
    "After training our models, we will get the elasticity from the regression model. Again, we will resort to a numerical aproximation\n",
    "\n",
    "$$\n",
    "\\frac{\\delta y(t)}{\\delta t} \\approx  \\frac{y(t+h) - y(t)}{h}\n",
    "$$\n",
    "\n",
    "To summarize, we will have our elasticity model, given by the linear regression where we apply the above aproximation to gen an elasticity prediction. We will also have a predictive ML model. Besides those, let's also include a random model. The idea is that this model just outputs random numbers as predictions. It is obviously not very usefull, but it shall serve well as a benchmark."
   ]
  },
  {
   "cell_type": "code",
   "execution_count": 6,
   "metadata": {},
   "outputs": [
    {
     "data": {
      "text/html": [
       "<div>\n",
       "<style scoped>\n",
       "    .dataframe tbody tr th:only-of-type {\n",
       "        vertical-align: middle;\n",
       "    }\n",
       "\n",
       "    .dataframe tbody tr th {\n",
       "        vertical-align: top;\n",
       "    }\n",
       "\n",
       "    .dataframe thead th {\n",
       "        text-align: right;\n",
       "    }\n",
       "</style>\n",
       "<table border=\"1\" class=\"dataframe\">\n",
       "  <thead>\n",
       "    <tr style=\"text-align: right;\">\n",
       "      <th></th>\n",
       "      <th>temp</th>\n",
       "      <th>weekday</th>\n",
       "      <th>cost</th>\n",
       "      <th>price</th>\n",
       "      <th>sales</th>\n",
       "      <th>m0_pred</th>\n",
       "      <th>m1_pred</th>\n",
       "      <th>m2_pred</th>\n",
       "    </tr>\n",
       "  </thead>\n",
       "  <tbody>\n",
       "    <tr>\n",
       "      <th>0</th>\n",
       "      <td>25.8</td>\n",
       "      <td>1</td>\n",
       "      <td>0.3</td>\n",
       "      <td>7</td>\n",
       "      <td>230</td>\n",
       "      <td>0.696469</td>\n",
       "      <td>-13.096964</td>\n",
       "      <td>224.067406</td>\n",
       "    </tr>\n",
       "    <tr>\n",
       "      <th>1</th>\n",
       "      <td>22.7</td>\n",
       "      <td>3</td>\n",
       "      <td>0.5</td>\n",
       "      <td>4</td>\n",
       "      <td>190</td>\n",
       "      <td>0.286139</td>\n",
       "      <td>1.054695</td>\n",
       "      <td>189.889147</td>\n",
       "    </tr>\n",
       "    <tr>\n",
       "      <th>2</th>\n",
       "      <td>33.7</td>\n",
       "      <td>7</td>\n",
       "      <td>1.0</td>\n",
       "      <td>5</td>\n",
       "      <td>237</td>\n",
       "      <td>0.226851</td>\n",
       "      <td>-17.362642</td>\n",
       "      <td>237.255157</td>\n",
       "    </tr>\n",
       "    <tr>\n",
       "      <th>3</th>\n",
       "      <td>23.0</td>\n",
       "      <td>4</td>\n",
       "      <td>0.5</td>\n",
       "      <td>5</td>\n",
       "      <td>193</td>\n",
       "      <td>0.551315</td>\n",
       "      <td>0.564985</td>\n",
       "      <td>186.688619</td>\n",
       "    </tr>\n",
       "    <tr>\n",
       "      <th>4</th>\n",
       "      <td>24.4</td>\n",
       "      <td>1</td>\n",
       "      <td>1.0</td>\n",
       "      <td>3</td>\n",
       "      <td>252</td>\n",
       "      <td>0.719469</td>\n",
       "      <td>-13.717946</td>\n",
       "      <td>250.342203</td>\n",
       "    </tr>\n",
       "  </tbody>\n",
       "</table>\n",
       "</div>"
      ],
      "text/plain": [
       "   temp  weekday  cost  price  sales   m0_pred    m1_pred     m2_pred\n",
       "0  25.8        1   0.3      7    230  0.696469 -13.096964  224.067406\n",
       "1  22.7        3   0.5      4    190  0.286139   1.054695  189.889147\n",
       "2  33.7        7   1.0      5    237  0.226851 -17.362642  237.255157\n",
       "3  23.0        4   0.5      5    193  0.551315   0.564985  186.688619\n",
       "4  24.4        1   1.0      3    252  0.719469 -13.717946  250.342203"
      ]
     },
     "execution_count": 6,
     "metadata": {},
     "output_type": "execute_result"
    }
   ],
   "source": [
    "def predict_elast(model, price_df, h=0.01):\n",
    "    return (model.predict(price_df.assign(price=price_df[\"price\"]+h))\n",
    "            - model.predict(price_df)) / h\n",
    "\n",
    "np.random.seed(123)\n",
    "prices_rnd_pred = prices_rnd.assign(**{\n",
    "    \"m0_pred\": np.random.uniform(size=prices_rnd.shape[0]), ## random model\n",
    "    \"m1_pred\": predict_elast(m1, prices_rnd), ## elasticity model\n",
    "    \"m2_pred\": m2.predict(prices_rnd[X]), ## predictive model\n",
    "})\n",
    "\n",
    "prices_rnd_pred.head()"
   ]
  },
  {
   "cell_type": "markdown",
   "metadata": {},
   "source": [
    "## The Qini Curve\n",
    "\n",
    "Now that we have our predictions for treatment elasticity, we need to evaluate how good they are. And remember, we can't observe elasticity, so there isn't a groud simple truth we can use. Instead, let's think back to what we want from our elasticity models. Pehaps that will give us some insights into how we should evaluate them. \n",
    "\n",
    "The idea of making treatment elasticity models came from the necessity of finding which units are more sensitive to the treatment and which are less. It came from a desire for personalization. Maybe a marketing campaing is very effective in only one segment of the population. Maybe discounts only work for some type of customers. Causal models should help us find which customers will respond better and worse to a proposed treatment. \n",
    "\n",
    "If that is the case, it is no crazy to think that, if we order our dataset by the elasticity predictions, the top units, acording to this ordering, should have a higher elasticity, or sensitivity to the treatment, than the botton units. In other words, we we order our samples by predicted elasticity, the units should also be ordered in terms of true elasicity, if our models are any good, of course. So, let's try that. First, let's represent this ordering mathematically. Let \\\\(Y_k\\\\) represent the array containing the outcome of the first \\\\(k\\\\) units in a sample that was ordered by one of our models. Similarly, \\\\(T_k\\\\) is the treatment of those same units. \n",
    "\n",
    "We now need a way to represent the elasticity of a sample. Again, the true elasticity is unknown, but we can estimate it prety easely **if we have random data**. Given any set of random data, we have that the elasticity is the slope of the line maping from the treatment to the outcome. In other words, elasticity is the \\\\(\\hat{\\beta_1}\\\\) from estimating the following model.\n",
    "\n",
    "$$\n",
    "y_i = \\beta_0 + \\beta_1t_i + e_i\n",
    "$$\n",
    "\n",
    "From the theory on simple linear regression, we know that\n",
    "\n",
    "$$\n",
    "F(k) = \\hat{\\beta_1}=\\dfrac{\\sum_i^k (t_i - \\bar{t}) (y_i - \\bar{y})}{\\sum_i^k(t_i - \\bar{t})^2}\n",
    "$$\n",
    "\n",
    "where \\\\(\\bar{t}\\\\) is the sample average for the treatment and \\\\(\\bar{y}\\\\) is the sample average for the outcome. \\\\(F(k)\\\\) is then the function that estimates the elasticity for the  sample containing the top \\\\(k\\\\) units, acording to our ordering. Here is what that looks like in code."
   ]
  },
  {
   "cell_type": "code",
   "execution_count": 7,
   "metadata": {},
   "outputs": [],
   "source": [
    "def elast(data, y, t):\n",
    "        # line coeficient for the one variable linear regression \n",
    "        return (np.sum((data[t] - data[t].mean())*(data[y] - data[y].mean())) /\n",
    "                np.sum((data[t] - data[t].mean())**2))\n"
   ]
  },
  {
   "cell_type": "markdown",
   "metadata": {},
   "source": [
    "Whith those definitions, we can state two preferences for any elasticity model. \n",
    "\n",
    "First, the elasticity model is better to the degree that \\\\(F(k) > F(k+n)\\\\) for any \\\\(k\\\\) and \\\\(n>0\\\\). In words, if a model is good at ordering elasticity, the observed elasticity on the top \\\\(k\\\\) samples ordered by that model should be higher than the top \\\\(k+n\\\\) observed elasticity. Or, if I look at the top units, they should have higher elasticity than units below them. \n",
    "\n",
    "Second, the elasticiy model is better to the degree that \\\\(F(k) - F(k+n)\\\\) is the largest, for any \\\\(k\\\\) and \\\\(n>0\\\\). The intuition being that not only do we want the elasticity of the top \\\\(k\\\\) units to be higher than the elasticity of the units below them, but we want that difference to be as large as possible. \n",
    "\n",
    "Those two preferences can be better understood in terms of the cummulative elasticity. For that, first we will order our dataset. Then, we will partition is into roughtly equal steps. Then, we will compute the elasticity on step 1 (the top of our ordering), than on step 1+2, than on 1+2+3 and so on untill we finally get to the end of the dataset. The final computation will be the average elasticity. This would produce the following sequence, where each value is the elasticity as estimated by \\\\(F\\\\) on the top cummulative samples, \n",
    "\n",
    "$$\n",
    "(F(k), F(2k), F(3k)..., F(N))\n",
    "$$\n",
    "\n",
    "Here is this idea represented in code."
   ]
  },
  {
   "cell_type": "code",
   "execution_count": 8,
   "metadata": {},
   "outputs": [],
   "source": [
    "def top_n_elast_curve(dataset, prediction, y, t, min_periods=30, steps=100):\n",
    "    size = dataset.shape[0]\n",
    "    \n",
    "    # orders the dataset by the `prediction` column\n",
    "    ordered_df = dataset.sort_values(prediction, ascending=False).reset_index(drop=True)\n",
    "    \n",
    "    # create a sequence of row numbers that will define our Ks\n",
    "    # The last item is the sequence is all the rows (the size of the dataset)\n",
    "    n_rows = list(range(min_periods, size, size // steps)) + [size]\n",
    "    \n",
    "    # cumulative computs the elasticity. First for the top min_periods units.\n",
    "    # then for the top (min_periods + step*1), then (min_periods + step*2) and so on\n",
    "    return np.array([elast(ordered_df.head(rows), y, t) for rows in n_rows])"
   ]
  },
  {
   "cell_type": "markdown",
   "metadata": {},
   "source": [
    "Now, we can plot this cummulative elasticity acording to the ordering prodived by each of our model: the elasticity model (M1), the predictive model (M2) and our random model (M0). To wrap our head around what is happening here, is is better to look at the random model first. Notive that there is a horizontal dashed line that has the average elasticity, which is about -2.5. This means that, on average, for each 1 BRL increase in price, sales will drop by 2.5 units. Now, that is on avergae. Remember that the whole point of the exercise is to find units (days, in this example) that are more responsive to price increases and units that are less responsive. But if we look at the random model, it doesn't seem able to do that. The top entities, acording to this model, have an elasticity of about -2.5. In other words, they are very close to the average. "
   ]
  },
  {
   "cell_type": "code",
   "execution_count": 9,
   "metadata": {},
   "outputs": [
    {
     "data": {
      "image/png": "[encoded data removed]",
      "text/plain": [
       "<Figure size 720x432 with 1 Axes>"
      ]
     },
     "metadata": {
      "needs_background": "light"
     },
     "output_type": "display_data"
    }
   ],
   "source": [
    "plt.figure(figsize=(10,6))\n",
    "\n",
    "for m in range(3):\n",
    "    cumm_gain = top_n_elast_curve(prices_rnd_pred, f\"m{m}_pred\", \"sales\", \"price\", min_periods=100, steps=100)\n",
    "    x = np.array(range(len(cumm_gain)))\n",
    "    plt.plot(x/x.max(), cumm_gain, label=f\"M{m}\")\n",
    "\n",
    "plt.hlines(elast(prices_rnd, \"sales\", \"price\"), 0, 1, linestyles=\"--\", color=\"black\", label=\"Avg. Elast.\")\n",
    "plt.xlabel(\"% of Top Elast. Customers\")\n",
    "plt.ylabel(\"Elasticity of Top %\")\n",
    "plt.title(\"Cummulative Elasticity\")\n",
    "plt.legend();"
   ]
  },
  {
   "cell_type": "markdown",
   "metadata": {},
   "source": [
    "Consider now the elasticity model M1. It starts of with a elasticity close to the average but it soon diverges up. This means that it's ordering puts units with higher elasticity in front of those units with lowe elasticity. By the time it reaches 40% of the samples, the elasticity is only about -0.5. This means that this model can indeed order elasticity. If we increase prices on days like those like top 40%, we shold expect sales to decrease only 0.5 units por each BRL increase. This is a much lower sensitivity than the average -2.5. Finaly, consider our predictive model. Its starts above the average elasticity, but then it goes down and it climbs back up to be pretty close to the averae elasticity. All this wiggling is some indication that it is not doing a very good job in ordering units by how elastic they are.\n",
    "\n",
    "The cummulative elasticity plot already gives us some nice intuition about which model is better. However, its main purpuse is to aid decision making. With it, we can statements like \"If I treat x% of my units, the effectivness of the treatment will be y\". In our example, \"If I increase prices on 40% of the units, the elasticity would be only -1.0\". For model selection, we can use something that is vizually more appealing: the Qini curve.\n",
    "\n",
    "To get the Qini, we only need one small ajustment. The idea it to multiply the elasticity by the propostion of samples that have that elasticity. \n",
    "\n",
    "$$\n",
    "(F(k)(k/N), F(2k)(2k/N), F(3k)(3k/N),..., F(N))\n",
    "$$\n",
    "\n"
   ]
  },
  {
   "cell_type": "code",
   "execution_count": 10,
   "metadata": {},
   "outputs": [],
   "source": [
    "def cummulative_gain(dataset, prediction, y, t, min_periods=30, steps=100):\n",
    "    size = dataset.shape[0]\n",
    "    ordered_df = dataset.sort_values(prediction, ascending=False).reset_index(drop=True)\n",
    "    n_rows = list(range(min_periods, size, size // steps)) + [size]\n",
    "    \n",
    "    ## add (rows/size) as a normalizer. \n",
    "    return np.array([elast(ordered_df.head(rows), y, t) * (rows/size) for rows in n_rows])"
   ]
  },
  {
   "cell_type": "markdown",
   "metadata": {},
   "source": [
    "This produces the following curves for our models. In the Qini, a theoretical random model goes from 0 to the average elasticity. Indeed, if we look at our random model (M0), it folows closely the theoretical random line. On the Qini curve, the biger the Area Under the Curve, the better the model at ordering the elasticity. So, consider again our elasticity model M1 and the predictive model M2. It is pretty clear that the elasticity model has a much bigger area under the curve than the predictive model. For this reason, it's offten easier to know which model is better by looking at the Qini curve."
   ]
  },
  {
   "cell_type": "code",
   "execution_count": 11,
   "metadata": {},
   "outputs": [
    {
     "data": {
      "image/png": "[encoded data removed]",
      "text/plain": [
       "<Figure size 720x432 with 1 Axes>"
      ]
     },
     "metadata": {
      "needs_background": "light"
     },
     "output_type": "display_data"
    }
   ],
   "source": [
    "plt.figure(figsize=(10,6))\n",
    "\n",
    "for m in range(3):\n",
    "    cumm_gain = cummulative_gain(prices_rnd_pred, f\"m{m}_pred\", \"sales\", \"price\", min_periods=50, steps=100)\n",
    "    x = np.array(range(len(cumm_gain)))\n",
    "    plt.plot(x/x.max(), cumm_gain, label=f\"M{m}\")\n",
    "    \n",
    "plt.plot([0, 1], [0, elast(prices_rnd_pred, \"sales\", \"price\")], linestyle=\"--\", label=\"Random Model\", color=\"black\")\n",
    "\n",
    "plt.xlabel(\"% of Top Elast. Customers\")\n",
    "plt.ylabel(\"Cummulative Gain\")\n",
    "plt.title(\"Qini Curve\")\n",
    "plt.legend();"
   ]
  },
  {
   "cell_type": "markdown",
   "metadata": {},
   "source": [
    "## Non Random Data"
   ]
  },
  {
   "cell_type": "code",
   "execution_count": 12,
   "metadata": {},
   "outputs": [
    {
     "data": {
      "text/plain": [
       "((5000, 5), (5000, 5))"
      ]
     },
     "execution_count": 12,
     "metadata": {},
     "output_type": "execute_result"
    }
   ],
   "source": [
    "from sklearn.model_selection import train_test_split\n",
    "train, test = train_test_split(prices, test_size=0.5)\n",
    "train.shape, test.shape"
   ]
  },
  {
   "cell_type": "markdown",
   "metadata": {},
   "source": [
    "## Debiasing the Test"
   ]
  },
  {
   "cell_type": "code",
   "execution_count": 13,
   "metadata": {},
   "outputs": [
    {
     "data": {
      "text/html": [
       "<div>\n",
       "<style scoped>\n",
       "    .dataframe tbody tr th:only-of-type {\n",
       "        vertical-align: middle;\n",
       "    }\n",
       "\n",
       "    .dataframe tbody tr th {\n",
       "        vertical-align: top;\n",
       "    }\n",
       "\n",
       "    .dataframe thead th {\n",
       "        text-align: right;\n",
       "    }\n",
       "</style>\n",
       "<table border=\"1\" class=\"dataframe\">\n",
       "  <thead>\n",
       "    <tr style=\"text-align: right;\">\n",
       "      <th></th>\n",
       "      <th>temp</th>\n",
       "      <th>weekday</th>\n",
       "      <th>cost</th>\n",
       "      <th>price</th>\n",
       "      <th>sales</th>\n",
       "    </tr>\n",
       "  </thead>\n",
       "  <tbody>\n",
       "    <tr>\n",
       "      <th>temp</th>\n",
       "      <td>1.000000</td>\n",
       "      <td>-0.011791</td>\n",
       "      <td>0.004071</td>\n",
       "      <td>0.009437</td>\n",
       "      <td>0.376438</td>\n",
       "    </tr>\n",
       "    <tr>\n",
       "      <th>weekday</th>\n",
       "      <td>-0.011791</td>\n",
       "      <td>1.000000</td>\n",
       "      <td>0.012182</td>\n",
       "      <td>0.001593</td>\n",
       "      <td>0.006172</td>\n",
       "    </tr>\n",
       "    <tr>\n",
       "      <th>cost</th>\n",
       "      <td>0.004071</td>\n",
       "      <td>0.012182</td>\n",
       "      <td>1.000000</td>\n",
       "      <td>0.397086</td>\n",
       "      <td>-0.006410</td>\n",
       "    </tr>\n",
       "    <tr>\n",
       "      <th>price</th>\n",
       "      <td>0.009437</td>\n",
       "      <td>0.001593</td>\n",
       "      <td>0.397086</td>\n",
       "      <td>1.000000</td>\n",
       "      <td>0.082373</td>\n",
       "    </tr>\n",
       "    <tr>\n",
       "      <th>sales</th>\n",
       "      <td>0.376438</td>\n",
       "      <td>0.006172</td>\n",
       "      <td>-0.006410</td>\n",
       "      <td>0.082373</td>\n",
       "      <td>1.000000</td>\n",
       "    </tr>\n",
       "  </tbody>\n",
       "</table>\n",
       "</div>"
      ],
      "text/plain": [
       "             temp   weekday      cost     price     sales\n",
       "temp     1.000000 -0.011791  0.004071  0.009437  0.376438\n",
       "weekday -0.011791  1.000000  0.012182  0.001593  0.006172\n",
       "cost     0.004071  0.012182  1.000000  0.397086 -0.006410\n",
       "price    0.009437  0.001593  0.397086  1.000000  0.082373\n",
       "sales    0.376438  0.006172 -0.006410  0.082373  1.000000"
      ]
     },
     "execution_count": 13,
     "metadata": {},
     "output_type": "execute_result"
    }
   ],
   "source": [
    "test.corr()"
   ]
  },
  {
   "cell_type": "code",
   "execution_count": 14,
   "metadata": {},
   "outputs": [],
   "source": [
    "m_t = smf.ols(\"price ~ cost + C(weekday) + temp\", data=test).fit()\n",
    "m_y = smf.ols(\"sales ~ cost + C(weekday) + temp\", data=test).fit()\n",
    "\n",
    "debiased_test = test.assign(**dict(price=test[\"price\"] - m_t.predict(test), \n",
    "                                   sales=test[\"sales\"] - m_y.predict(test)))"
   ]
  },
  {
   "cell_type": "code",
   "execution_count": 15,
   "metadata": {},
   "outputs": [
    {
     "data": {
      "text/html": [
       "<div>\n",
       "<style scoped>\n",
       "    .dataframe tbody tr th:only-of-type {\n",
       "        vertical-align: middle;\n",
       "    }\n",
       "\n",
       "    .dataframe tbody tr th {\n",
       "        vertical-align: top;\n",
       "    }\n",
       "\n",
       "    .dataframe thead th {\n",
       "        text-align: right;\n",
       "    }\n",
       "</style>\n",
       "<table border=\"1\" class=\"dataframe\">\n",
       "  <thead>\n",
       "    <tr style=\"text-align: right;\">\n",
       "      <th></th>\n",
       "      <th>temp</th>\n",
       "      <th>weekday</th>\n",
       "      <th>cost</th>\n",
       "      <th>price</th>\n",
       "      <th>sales</th>\n",
       "    </tr>\n",
       "  </thead>\n",
       "  <tbody>\n",
       "    <tr>\n",
       "      <th>temp</th>\n",
       "      <td>1.000000e+00</td>\n",
       "      <td>-1.179061e-02</td>\n",
       "      <td>4.071068e-03</td>\n",
       "      <td>-6.638769e-16</td>\n",
       "      <td>-9.892826e-16</td>\n",
       "    </tr>\n",
       "    <tr>\n",
       "      <th>weekday</th>\n",
       "      <td>-1.179061e-02</td>\n",
       "      <td>1.000000e+00</td>\n",
       "      <td>1.218153e-02</td>\n",
       "      <td>-1.112059e-15</td>\n",
       "      <td>-3.126523e-15</td>\n",
       "    </tr>\n",
       "    <tr>\n",
       "      <th>cost</th>\n",
       "      <td>4.071068e-03</td>\n",
       "      <td>1.218153e-02</td>\n",
       "      <td>1.000000e+00</td>\n",
       "      <td>2.400538e-16</td>\n",
       "      <td>-4.157632e-16</td>\n",
       "    </tr>\n",
       "    <tr>\n",
       "      <th>price</th>\n",
       "      <td>-6.638769e-16</td>\n",
       "      <td>-1.112059e-15</td>\n",
       "      <td>2.400538e-16</td>\n",
       "      <td>1.000000e+00</td>\n",
       "      <td>-3.404238e-01</td>\n",
       "    </tr>\n",
       "    <tr>\n",
       "      <th>sales</th>\n",
       "      <td>-9.892826e-16</td>\n",
       "      <td>-3.126523e-15</td>\n",
       "      <td>-4.157632e-16</td>\n",
       "      <td>-3.404238e-01</td>\n",
       "      <td>1.000000e+00</td>\n",
       "    </tr>\n",
       "  </tbody>\n",
       "</table>\n",
       "</div>"
      ],
      "text/plain": [
       "                 temp       weekday          cost         price         sales\n",
       "temp     1.000000e+00 -1.179061e-02  4.071068e-03 -6.638769e-16 -9.892826e-16\n",
       "weekday -1.179061e-02  1.000000e+00  1.218153e-02 -1.112059e-15 -3.126523e-15\n",
       "cost     4.071068e-03  1.218153e-02  1.000000e+00  2.400538e-16 -4.157632e-16\n",
       "price   -6.638769e-16 -1.112059e-15  2.400538e-16  1.000000e+00 -3.404238e-01\n",
       "sales   -9.892826e-16 -3.126523e-15 -4.157632e-16 -3.404238e-01  1.000000e+00"
      ]
     },
     "execution_count": 15,
     "metadata": {},
     "output_type": "execute_result"
    }
   ],
   "source": [
    "debiased_test.corr()"
   ]
  },
  {
   "cell_type": "code",
   "execution_count": 16,
   "metadata": {},
   "outputs": [],
   "source": [
    "m3 = smf.ols(\"sales ~ price*cost + price*C(weekday) + price*temp\", data=train).fit()"
   ]
  },
  {
   "cell_type": "code",
   "execution_count": 22,
   "metadata": {},
   "outputs": [
    {
     "data": {
      "text/html": [
       "<div>\n",
       "<style scoped>\n",
       "    .dataframe tbody tr th:only-of-type {\n",
       "        vertical-align: middle;\n",
       "    }\n",
       "\n",
       "    .dataframe tbody tr th {\n",
       "        vertical-align: top;\n",
       "    }\n",
       "\n",
       "    .dataframe thead th {\n",
       "        text-align: right;\n",
       "    }\n",
       "</style>\n",
       "<table border=\"1\" class=\"dataframe\">\n",
       "  <thead>\n",
       "    <tr style=\"text-align: right;\">\n",
       "      <th></th>\n",
       "      <th>temp</th>\n",
       "      <th>weekday</th>\n",
       "      <th>cost</th>\n",
       "      <th>price</th>\n",
       "      <th>sales</th>\n",
       "      <th>m3_pred</th>\n",
       "    </tr>\n",
       "  </thead>\n",
       "  <tbody>\n",
       "    <tr>\n",
       "      <th>5770</th>\n",
       "      <td>28.9</td>\n",
       "      <td>6</td>\n",
       "      <td>1.0</td>\n",
       "      <td>0.866784</td>\n",
       "      <td>9.472567</td>\n",
       "      <td>-1.793514</td>\n",
       "    </tr>\n",
       "    <tr>\n",
       "      <th>9436</th>\n",
       "      <td>25.7</td>\n",
       "      <td>7</td>\n",
       "      <td>0.5</td>\n",
       "      <td>0.229630</td>\n",
       "      <td>10.497228</td>\n",
       "      <td>-13.191531</td>\n",
       "    </tr>\n",
       "    <tr>\n",
       "      <th>4098</th>\n",
       "      <td>22.6</td>\n",
       "      <td>3</td>\n",
       "      <td>0.5</td>\n",
       "      <td>0.154908</td>\n",
       "      <td>-18.420336</td>\n",
       "      <td>1.289809</td>\n",
       "    </tr>\n",
       "    <tr>\n",
       "      <th>7922</th>\n",
       "      <td>20.7</td>\n",
       "      <td>6</td>\n",
       "      <td>1.0</td>\n",
       "      <td>0.779103</td>\n",
       "      <td>1.319554</td>\n",
       "      <td>1.114852</td>\n",
       "    </tr>\n",
       "    <tr>\n",
       "      <th>1548</th>\n",
       "      <td>29.4</td>\n",
       "      <td>3</td>\n",
       "      <td>1.0</td>\n",
       "      <td>0.735878</td>\n",
       "      <td>12.684552</td>\n",
       "      <td>-1.805416</td>\n",
       "    </tr>\n",
       "  </tbody>\n",
       "</table>\n",
       "</div>"
      ],
      "text/plain": [
       "      temp  weekday  cost     price      sales    m3_pred\n",
       "5770  28.9        6   1.0  0.866784   9.472567  -1.793514\n",
       "9436  25.7        7   0.5  0.229630  10.497228 -13.191531\n",
       "4098  22.6        3   0.5  0.154908 -18.420336   1.289809\n",
       "7922  20.7        6   1.0  0.779103   1.319554   1.114852\n",
       "1548  29.4        3   1.0  0.735878  12.684552  -1.805416"
      ]
     },
     "execution_count": 22,
     "metadata": {},
     "output_type": "execute_result"
    }
   ],
   "source": [
    "debiased_test_pred = debiased_test.assign(**{\n",
    "    \"m3_pred\": predict_elast(m3, debiased_test),\n",
    "})\n",
    "\n",
    "debiased_test_pred.head()"
   ]
  },
  {
   "cell_type": "code",
   "execution_count": 23,
   "metadata": {},
   "outputs": [
    {
     "data": {
      "image/png": "[encoded data removed]",
      "text/plain": [
       "<Figure size 720x432 with 1 Axes>"
      ]
     },
     "metadata": {
      "needs_background": "light"
     },
     "output_type": "display_data"
    }
   ],
   "source": [
    "plt.figure(figsize=(10,6))\n",
    "\n",
    "cumm_gain = top_n_elast_curve(debiased_test_pred, f\"m3_pred\", \"sales\", \"price\", min_periods=50, steps=200)\n",
    "x = np.array(range(len(cumm_gain)))\n",
    "plt.plot(x/x.max(), cumm_gain, label=f\"M3\")\n",
    "\n",
    "plt.hlines(elast(debiased_test_pred, \"sales\", \"price\"), 0, 1, linestyles=\"--\", color=\"black\", label=\"Avg. Elast.\")\n",
    "plt.xlabel(\"% of Top Elast. Customers\")\n",
    "plt.ylabel(\"Elasticity of Top %\")\n",
    "plt.legend();"
   ]
  },
  {
   "cell_type": "code",
   "execution_count": 25,
   "metadata": {},
   "outputs": [
    {
     "data": {
      "image/png": "[encoded data removed]",
      "text/plain": [
       "<Figure size 720x432 with 1 Axes>"
      ]
     },
     "metadata": {
      "needs_background": "light"
     },
     "output_type": "display_data"
    }
   ],
   "source": [
    "plt.figure(figsize=(10,6))\n",
    "\n",
    "cumm_gain = cummulative_gain(debiased_test_pred, f\"m3_pred\", \"sales\", \"price\", min_periods=50, steps=200)\n",
    "x = np.array(range(len(cumm_gain)))\n",
    "plt.plot(x/x.max(), cumm_gain, label=f\"M3\", color=\"red\")\n",
    "\n",
    "plt.plot([0, 1], [0, elast(debiased_test_pred, \"sales\", \"price\")], linestyle=\"--\", label=\"Random Model\", color=\"black\")\n",
    "\n",
    "plt.xlabel(\"% of Top Elast. Customers\")\n",
    "plt.ylabel(\"Cummulative Elasticity\")\n",
    "plt.legend();"
   ]
  },
  {
   "cell_type": "code",
   "execution_count": null,
   "metadata": {},
   "outputs": [],
   "source": []
  },
  {
   "cell_type": "code",
   "execution_count": null,
   "metadata": {},
   "outputs": [],
   "source": []
  }
 ],
 "metadata": {
  "kernelspec": {
   "display_name": "causal-glory",
   "language": "python",
   "name": "causal-glory"
  },
  "language_info": {
   "codemirror_mode": {
    "name": "ipython",
    "version": 3
   },
   "file_extension": ".py",
   "mimetype": "text/x-python",
   "name": "python",
   "nbconvert_exporter": "python",
   "pygments_lexer": "ipython3",
   "version": "3.6.9"
  }
 },
 "nbformat": 4,
 "nbformat_minor": 4
}
